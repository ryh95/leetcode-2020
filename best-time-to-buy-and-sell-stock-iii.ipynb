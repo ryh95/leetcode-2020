{
 "cells": [
  {
   "cell_type": "markdown",
   "metadata": {
    "collapsed": true,
    "pycharm": {
     "name": "#%% md\n"
    }
   },
   "source": [
    "算法思想：\n",
    "\n",
    "因为只有卖完后才能买，所以2次交易最多分成2段，所以，前向，后向分别计算，累加，取最大\n",
    "\n",
    "![hello](img/best-time-to-buy-and-sell-stock-iii.png)\n",
    "\n",
    "时间复杂度：$O(n)$\n",
    "\n",
    "优秀题解：\n",
    "yi-ge-tong-yong-fang-fa-tuan-mie-6-dao-gu-piao-wen/"
   ]
  },
  {
   "cell_type": "code",
   "execution_count": 1,
   "outputs": [],
   "source": [
    "from typing import List"
   ],
   "metadata": {
    "collapsed": false,
    "pycharm": {
     "name": "#%%\n"
    }
   }
  },
  {
   "cell_type": "code",
   "execution_count": 14,
   "outputs": [],
   "source": [
    "class Solution:\n",
    "    def maxProfit(self, prices: List[int]) -> int:\n",
    "        _,res1 = self.maxProfit1(prices)\n",
    "        _,res2 = self.maxProfit1([-p for p in prices[::-1]])\n",
    "        res = max([v1 + v2 for v1,v2 in zip([0]+res1,res2[::-1]+[0])])\n",
    "        return res\n",
    "\n",
    "    def maxProfit1(self, prices: List[int]) -> int:\n",
    "        if not prices: return 0,[0]\n",
    "        Sa,Ch,res = prices[0],0,[]\n",
    "        for j in range(len(prices)):\n",
    "            Sa = min(Sa,prices[j])\n",
    "            hj = prices[j] - Sa\n",
    "            Ch = max(Ch,hj)\n",
    "            res.append(Ch)\n",
    "        return Ch,res"
   ],
   "metadata": {
    "collapsed": false,
    "pycharm": {
     "name": "#%%\n"
    }
   }
  },
  {
   "cell_type": "code",
   "execution_count": 17,
   "outputs": [],
   "source": [
    "test = [3,5,4,10,4,11]\n",
    "test = [1,2,3,4,5]\n",
    "test = []\n",
    "test = [3,3,5,0,0,3,1,4]"
   ],
   "metadata": {
    "collapsed": false,
    "pycharm": {
     "name": "#%%\n"
    }
   }
  },
  {
   "cell_type": "code",
   "execution_count": 18,
   "outputs": [
    {
     "name": "stdout",
     "output_type": "stream",
     "text": [
      "6\n"
     ]
    }
   ],
   "source": [
    "res = Solution().maxProfit(test)\n",
    "print(res)"
   ],
   "metadata": {
    "collapsed": false,
    "pycharm": {
     "name": "#%%\n"
    }
   }
  }
 ],
 "metadata": {
  "kernelspec": {
   "display_name": "Python 3",
   "language": "python",
   "name": "python3"
  },
  "language_info": {
   "codemirror_mode": {
    "name": "ipython",
    "version": 2
   },
   "file_extension": ".py",
   "mimetype": "text/x-python",
   "name": "python",
   "nbconvert_exporter": "python",
   "pygments_lexer": "ipython2",
   "version": "2.7.6"
  }
 },
 "nbformat": 4,
 "nbformat_minor": 0
}