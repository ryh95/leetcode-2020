{
 "cells": [
  {
   "cell_type": "markdown",
   "metadata": {
    "collapsed": true,
    "pycharm": {
     "name": "#%% md\n"
    }
   },
   "source": [
    "算法思想：\n",
    "广度优先搜索，因为广度优先是逐层向外搜索，所以当外延碰到待搜索的节点（将数字看成图的节点）时，此时所走的步数就是解\n",
    "\n",
    "![hello](img/perfect-squares.png)"
   ]
  },
  {
   "cell_type": "code",
   "execution_count": null,
   "outputs": [],
   "source": [
    "import math"
   ],
   "metadata": {
    "collapsed": false,
    "pycharm": {
     "name": "#%%\n"
    }
   }
  },
  {
   "cell_type": "code",
   "execution_count": null,
   "outputs": [],
   "source": [
    "class Solution:\n",
    "\n",
    "    def numSquares(self,n):\n",
    "        # BFS\n",
    "        a = [j ** 2 for j in range(1, math.floor(math.sqrt(n)) + 1)]\n",
    "        q,res = [0],{0:0}\n",
    "        while q:\n",
    "            e = q[0]\n",
    "            for i in a:\n",
    "                if (e+i not in res) and (e+i <= n):\n",
    "                    q.append(e+i)\n",
    "                    res[e+i] = res[e] + 1\n",
    "                    if n in res: return res[n]\n",
    "            q.pop(0)\n",
    "        return res[n]\n",
    "\n",
    "    def numSquares2(self, n: int) -> int:\n",
    "        self.a = [j ** 2 for j in range(1,math.floor(math.sqrt(n))+1)]\n",
    "        self.res = {}\n",
    "        return self.f(n)\n",
    "\n",
    "    # @functools.lru_cache()\n",
    "    def f(self,i):\n",
    "        # DFS会栈溢出\n",
    "        if math.sqrt(i).is_integer(): self.res[i] = 1\n",
    "        # if math.sqrt(i).is_integer(): return 1\n",
    "        if i in self.res: return self.res[i]\n",
    "        res_i = min([self.f(i-self.a[j]) for j in range(math.floor(math.sqrt(i)))])+1\n",
    "        self.res[i] = res_i\n",
    "        return res_i"
   ],
   "metadata": {
    "collapsed": false,
    "pycharm": {
     "name": "#%%\n"
    }
   }
  },
  {
   "cell_type": "code",
   "execution_count": null,
   "outputs": [],
   "source": [
    "print(Solution().numSquares(7929))"
   ],
   "metadata": {
    "collapsed": false,
    "pycharm": {
     "name": "#%%\n"
    }
   }
  }
 ],
 "metadata": {
  "kernelspec": {
   "display_name": "Python 3",
   "language": "python",
   "name": "python3"
  },
  "language_info": {
   "codemirror_mode": {
    "name": "ipython",
    "version": 2
   },
   "file_extension": ".py",
   "mimetype": "text/x-python",
   "name": "python",
   "nbconvert_exporter": "python",
   "pygments_lexer": "ipython2",
   "version": "2.7.6"
  }
 },
 "nbformat": 4,
 "nbformat_minor": 0
}