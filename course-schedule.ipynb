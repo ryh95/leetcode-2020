{
 "cells": [
  {
   "cell_type": "markdown",
   "metadata": {
    "collapsed": true,
    "pycharm": {
     "name": "#%% md\n"
    }
   },
   "source": [
    "算法思想：\n",
    "标记法判断有没有环，这个问题的退化版本是用标记法判断链表有没有环\n",
    "\n",
    "![hello](img/course-schedule.png)"
   ]
  },
  {
   "cell_type": "code",
   "execution_count": 2,
   "outputs": [],
   "source": [
    "from collections import defaultdict\n",
    "from typing import List"
   ],
   "metadata": {
    "collapsed": false,
    "pycharm": {
     "name": "#%%\n"
    }
   }
  },
  {
   "cell_type": "code",
   "execution_count": 3,
   "outputs": [],
   "source": [
    "class Solution:\n",
    "    def canFinish(self, numCourses: int, prerequisites: List[List[int]]) -> bool:\n",
    "        if numCourses == 1: return True\n",
    "        g = self.constrcut_graph(prerequisites)\n",
    "        self.marked_nodes,self.visited_nodes = set(),set()\n",
    "        for v,_ in g.items():\n",
    "            if v not in self.visited_nodes:\n",
    "                self.visited_nodes.add(v)\n",
    "                self.marked_nodes.add(v)\n",
    "                has_cycle = self.dfs_visit(v,g)\n",
    "                self.marked_nodes.remove(v)\n",
    "                if has_cycle: return False\n",
    "        return True\n",
    "\n",
    "    def constrcut_graph(self, prerequisites: List[List[int]]):\n",
    "        g = defaultdict(set)\n",
    "        for e,s in prerequisites:\n",
    "            g[s].add(e)\n",
    "        return g\n",
    "\n",
    "    def dfs_visit(self,v,adj):\n",
    "        has_cycle = False\n",
    "        if v not in adj: return has_cycle\n",
    "        for s in adj[v]:\n",
    "            if s not in self.marked_nodes:\n",
    "                self.marked_nodes.add(s)\n",
    "                if s not in self.visited_nodes:\n",
    "                    self.visited_nodes.add(s)\n",
    "                    has_cycle = self.dfs_visit(s,adj)\n",
    "            else:\n",
    "                return True\n",
    "            self.marked_nodes.remove(s)\n",
    "            if has_cycle: break # 如果已经在一条路上找到环，则不用再找其他路，否则如果其他路没有环，会返回错误答案\n",
    "        return has_cycle"
   ],
   "metadata": {
    "collapsed": false,
    "pycharm": {
     "name": "#%%\n"
    }
   }
  },
  {
   "cell_type": "code",
   "execution_count": 4,
   "outputs": [],
   "source": [
    "# numCourses,prerequisites = 2, [[1,0],[0,1]]\n",
    "# numCourses,prerequisites = 1, [[1]]\n",
    "numCourses,prerequisites = 3,[[0,2],[1,2],[2,0]]"
   ],
   "metadata": {
    "collapsed": false,
    "pycharm": {
     "name": "#%%\n"
    }
   }
  },
  {
   "cell_type": "code",
   "execution_count": 5,
   "outputs": [
    {
     "name": "stdout",
     "output_type": "stream",
     "text": [
      "False\n"
     ]
    }
   ],
   "source": [
    "print(Solution().canFinish(numCourses,prerequisites))"
   ],
   "metadata": {
    "collapsed": false,
    "pycharm": {
     "name": "#%%\n"
    }
   }
  }
 ],
 "metadata": {
  "kernelspec": {
   "display_name": "Python 3",
   "language": "python",
   "name": "python3"
  },
  "language_info": {
   "codemirror_mode": {
    "name": "ipython",
    "version": 2
   },
   "file_extension": ".py",
   "mimetype": "text/x-python",
   "name": "python",
   "nbconvert_exporter": "python",
   "pygments_lexer": "ipython2",
   "version": "2.7.6"
  }
 },
 "nbformat": 4,
 "nbformat_minor": 0
}